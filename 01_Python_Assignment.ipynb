{
 "cells": [
  {
   "cell_type": "code",
   "execution_count": 1,
   "id": "4d428ff7-e900-4bc5-b70b-9113802869c9",
   "metadata": {},
   "outputs": [
    {
     "name": "stdout",
     "output_type": "stream",
     "text": [
      "Welcome to Python for Data Science\n"
     ]
    }
   ],
   "source": [
    "#Excersice 1.1\n",
    "print(\"Welcome to Python for Data Science\")"
   ]
  },
  {
   "cell_type": "code",
   "execution_count": 3,
   "id": "3f621afc-d6f9-48c8-9c0d-5bd0d73a465e",
   "metadata": {},
   "outputs": [
    {
     "name": "stdout",
     "output_type": "stream",
     "text": [
      "Hi, I'm Tanvi, I love Python for data science, and I have 0 years of experience\n"
     ]
    }
   ],
   "source": [
    "#Excersice 2.1\n",
    "your_name = \"Tanvi\"\n",
    "favourite_tool = \"Python\"\n",
    "years_experience = 0\n",
    "\n",
    "print(f\"Hi, I'm {your_name}, I love {favourite_tool} for data science, and I have {years_experience} years of experience\")"
   ]
  },
  {
   "cell_type": "code",
   "execution_count": 12,
   "id": "4104c0a4-f756-412c-b54a-2770719723a7",
   "metadata": {},
   "outputs": [
    {
     "name": "stdout",
     "output_type": "stream",
     "text": [
      "The dataset Sales Data contains 1500 records with 45 missing values and an accuracy of 94.5%\n"
     ]
    }
   ],
   "source": [
    "#Excersice 2.2\n",
    "dataset_name = \"Sales Data\"\n",
    "total_records = 1500\n",
    "missing_values = 45\n",
    "accuracy = 94.5\n",
    "print(f\"The dataset {dataset_name} contains {total_records} records with {missing_values} missing values and an accuracy of {accuracy}%\")"
   ]
  },
  {
   "cell_type": "code",
   "execution_count": 10,
   "id": "0e477bdc-4d23-4bf7-9605-ebc77acd3038",
   "metadata": {},
   "outputs": [
    {
     "name": "stdin",
     "output_type": "stream",
     "text": [
      "What is your name:  Tanvi\n",
      "Enter your age:  21\n",
      "Enter your annual_income:  1234.567\n",
      "Enter the number of years of education:  1\n"
     ]
    },
    {
     "name": "stdout",
     "output_type": "stream",
     "text": [
      "Hi, I'm Tanvi and I am 21 years old. My annual income is 1234.567 and years of education is 1\n"
     ]
    }
   ],
   "source": [
    "#Excersice 3.1: Data Collection Survey\n",
    "name = input(\"What is your name: \")\n",
    "age = int(input(\"Enter your age: \"))\n",
    "annual_income = float(input(\"Enter your annual_income: \"))\n",
    "years_education = int(input(\"Enter the number of years of education: \"))\n",
    "print(f\"Hi, I'm {name} and I am {age} years old. My annual income is {annual_income} and years of education is {years_education}\")"
   ]
  },
  {
   "cell_type": "code",
   "execution_count": 5,
   "id": "467b3fec-e423-4d8a-a93d-7727881988a8",
   "metadata": {},
   "outputs": [
    {
     "name": "stdin",
     "output_type": "stream",
     "text": [
      "Enter the weight(kg):  10.0\n",
      "Enter the height(meters):  2.0\n"
     ]
    },
    {
     "name": "stdout",
     "output_type": "stream",
     "text": [
      "2.5\n"
     ]
    }
   ],
   "source": [
    "#Excersice 3.2: Create a BMI Calculator\n",
    "weight = float(input(\"Enter the weight(kg): \"))\n",
    "height = float(input(\"Enter the height(meters): \"))\n",
    "BMI = (weight/(height ** 2))\n",
    "result = round(BMI, 2)\n",
    "print(result)"
   ]
  },
  {
   "cell_type": "code",
   "execution_count": null,
   "id": "800f2b69-220e-426d-abdb-6ba5fc253edd",
   "metadata": {},
   "outputs": [],
   "source": []
  }
 ],
 "metadata": {
  "kernelspec": {
   "display_name": "Python 3 (ipykernel)",
   "language": "python",
   "name": "python3"
  },
  "language_info": {
   "codemirror_mode": {
    "name": "ipython",
    "version": 3
   },
   "file_extension": ".py",
   "mimetype": "text/x-python",
   "name": "python",
   "nbconvert_exporter": "python",
   "pygments_lexer": "ipython3",
   "version": "3.12.7"
  }
 },
 "nbformat": 4,
 "nbformat_minor": 5
}
